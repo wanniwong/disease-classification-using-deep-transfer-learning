{
 "cells": [
  {
   "cell_type": "code",
   "execution_count": 1,
   "id": "6098a835",
   "metadata": {},
   "outputs": [],
   "source": [
    "import glob\n",
    "import os\n",
    "import shutil"
   ]
  },
  {
   "cell_type": "code",
   "execution_count": 2,
   "id": "23c0670d",
   "metadata": {},
   "outputs": [],
   "source": [
    "path = 'gi'\n",
    "isExist = os.path.exists(path)\n",
    "if not isExist:\n",
    "    os.makedirs(path)\n",
    "\n",
    "classes = ['esophagitis', 'polyp', 'ulcerative-colitis']\n",
    "for i in classes:\n",
    "    new_path = f'{path}/{i}'\n",
    "    isExist = os.path.exists(new_path)\n",
    "    if not isExist:\n",
    "        os.makedirs(new_path)"
   ]
  },
  {
   "cell_type": "code",
   "execution_count": 3,
   "id": "68742e88",
   "metadata": {},
   "outputs": [],
   "source": [
    "kvasir = 'kvasir-dataset-v2'\n",
    "for rootdir, dirs, files in os.walk(kvasir):\n",
    "    for subdir in dirs:\n",
    "        print(os.path.join(rootdir, subdir))"
   ]
  },
  {
   "cell_type": "code",
   "execution_count": 4,
   "id": "9cc9545c",
   "metadata": {},
   "outputs": [
    {
     "name": "stdout",
     "output_type": "stream",
     "text": [
      "labeled-images/lower-gi-tract\n",
      "labeled-images/upper-gi-tract\n",
      "labeled-images/lower-gi-tract\\anatomical-landmarks\n",
      "labeled-images/lower-gi-tract\\pathological-findings\n",
      "labeled-images/lower-gi-tract\\quality-of-mucosal-views\n",
      "labeled-images/lower-gi-tract\\therapeutic-interventions\n",
      "labeled-images/lower-gi-tract\\anatomical-landmarks\\cecum\n",
      "labeled-images/lower-gi-tract\\anatomical-landmarks\\ileum\n",
      "labeled-images/lower-gi-tract\\anatomical-landmarks\\retroflex-rectum\n",
      "labeled-images/lower-gi-tract\\pathological-findings\\hemorrhoids\n",
      "labeled-images/lower-gi-tract\\pathological-findings\\polyps\n",
      "labeled-images/lower-gi-tract\\pathological-findings\\ulcerative-colitis-grade-0-1\n",
      "labeled-images/lower-gi-tract\\pathological-findings\\ulcerative-colitis-grade-1\n",
      "labeled-images/lower-gi-tract\\pathological-findings\\ulcerative-colitis-grade-1-2\n",
      "labeled-images/lower-gi-tract\\pathological-findings\\ulcerative-colitis-grade-2\n",
      "labeled-images/lower-gi-tract\\pathological-findings\\ulcerative-colitis-grade-2-3\n",
      "labeled-images/lower-gi-tract\\pathological-findings\\ulcerative-colitis-grade-3\n",
      "labeled-images/lower-gi-tract\\quality-of-mucosal-views\\bbps-0-1\n",
      "labeled-images/lower-gi-tract\\quality-of-mucosal-views\\bbps-2-3\n",
      "labeled-images/lower-gi-tract\\quality-of-mucosal-views\\impacted-stool\n",
      "labeled-images/lower-gi-tract\\therapeutic-interventions\\dyed-lifted-polyps\n",
      "labeled-images/lower-gi-tract\\therapeutic-interventions\\dyed-resection-margins\n",
      "labeled-images/upper-gi-tract\\anatomical-landmarks\n",
      "labeled-images/upper-gi-tract\\pathological-findings\n",
      "labeled-images/upper-gi-tract\\anatomical-landmarks\\pylorus\n",
      "labeled-images/upper-gi-tract\\anatomical-landmarks\\retroflex-stomach\n",
      "labeled-images/upper-gi-tract\\anatomical-landmarks\\z-line\n",
      "labeled-images/upper-gi-tract\\pathological-findings\\barretts\n",
      "labeled-images/upper-gi-tract\\pathological-findings\\barretts-short-segment\n",
      "labeled-images/upper-gi-tract\\pathological-findings\\esophagitis-a\n",
      "labeled-images/upper-gi-tract\\pathological-findings\\esophagitis-b-d\n"
     ]
    }
   ],
   "source": [
    "hyperkvasir = 'labeled-images/'\n",
    "for rootdir, dirs, files in os.walk(hyperkvasir):\n",
    "    for subdir in dirs:\n",
    "        print(os.path.join(rootdir, subdir))"
   ]
  },
  {
   "cell_type": "markdown",
   "id": "8f94defc",
   "metadata": {},
   "source": [
    "## Combining polyp"
   ]
  },
  {
   "cell_type": "code",
   "execution_count": 5,
   "id": "42f0b841",
   "metadata": {},
   "outputs": [
    {
     "data": {
      "text/plain": [
       "(1000, 1028)"
      ]
     },
     "execution_count": 5,
     "metadata": {},
     "output_type": "execute_result"
    }
   ],
   "source": [
    "polyp = 1\n",
    "polyp_k = glob.glob(f'{kvasir}polyps/*.jpg')\n",
    "polyp_hk = glob.glob(f'{hyperkvasir}lower-gi-tract/pathological-findings/polyps/*.jpg')\n",
    "\n",
    "polyp_all = polyp_k + polyp_hk\n",
    "eso_all = eso_k + eso_hk\n",
    "print(f'Kvasir: {len(polyp_k)}', f'Hyper-kvasir: {len(polyp_hk)}', f'GI: {len(polyp_all)}')\n",
    "\n",
    "for i in polyp_all:\n",
    "    shutil.copy(i, f'{path}polyp/{polyp}.jpg')\n",
    "    polyp = polyp + 1"
   ]
  },
  {
   "cell_type": "markdown",
   "id": "2d144c70",
   "metadata": {},
   "source": [
    "## Combining esophagitis"
   ]
  },
  {
   "cell_type": "code",
   "execution_count": 51,
   "id": "8ad8ea2f",
   "metadata": {},
   "outputs": [
    {
     "data": {
      "text/plain": [
       "(1000, 663)"
      ]
     },
     "execution_count": 51,
     "metadata": {},
     "output_type": "execute_result"
    }
   ],
   "source": [
    "eso = 1\n",
    "eso_k = glob.glob(f'{kvasir}esophagitis/*.jpg')\n",
    "eso_hk = []\n",
    "for i in glob.glob(f'{hyperkvasir}upper-gi-tract/pathological-findings/esophagitis*'):\n",
    "    eso_temp = glob.glob(f'{i}/*.jpg')\n",
    "    for t in eso_temp:\n",
    "        eso_hk.append(t)\n",
    "\n",
    "eso_all = eso_k + eso_hk\n",
    "print(f'Kvasir: {len(eso_k)}', f'Hyper-kvasir: {len(eso_hk)}', f'GI: {len(eso_all)}')\n",
    "\n",
    "for i in eso_all:\n",
    "    shutil.copy(i, f'{path}esophagitis/{eso}.jpg')\n",
    "    eso = eso + 1"
   ]
  },
  {
   "cell_type": "markdown",
   "id": "7c9a023c",
   "metadata": {},
   "source": [
    "## Combining ulcerative-colitis"
   ]
  },
  {
   "cell_type": "code",
   "execution_count": 49,
   "id": "eb7f9ff4",
   "metadata": {},
   "outputs": [
    {
     "data": {
      "text/plain": [
       "(1000, 851)"
      ]
     },
     "execution_count": 49,
     "metadata": {},
     "output_type": "execute_result"
    }
   ],
   "source": [
    "ulcer = 1\n",
    "ulcer_k = glob.glob(f'{kvasir}ulcerative-colitis/*.jpg')\n",
    "ulcer_hk = []\n",
    "for i in glob.glob(f'{hyperkvasir}lower-gi-tract/pathological-findings/ulcerative-colitis*'):\n",
    "    ulcer_temp = glob.glob(f'{i}/*.jpg')\n",
    "    for t in ulcer_temp:\n",
    "        ulcer_hk.append(t)\n",
    "\n",
    "ulcer_all = ulcer_k + ulcer_hk\n",
    "print(f'Kvasir: {len(ulcer_k)}', f'Hyper-kvasir: {len(ulcer_hk)}', f'GI: {len(ulcer_all)}')\n",
    "for i in ulcer_all:\n",
    "    shutil.copy(i, f'{path}ulcerative-colitis/{ulcer}.jpg')\n",
    "    ulcer = ulcer + 1"
   ]
  }
 ],
 "metadata": {
  "kernelspec": {
   "display_name": "Python 3 (ipykernel)",
   "language": "python",
   "name": "python3"
  },
  "language_info": {
   "codemirror_mode": {
    "name": "ipython",
    "version": 3
   },
   "file_extension": ".py",
   "mimetype": "text/x-python",
   "name": "python",
   "nbconvert_exporter": "python",
   "pygments_lexer": "ipython3",
   "version": "3.9.7"
  }
 },
 "nbformat": 4,
 "nbformat_minor": 5
}
