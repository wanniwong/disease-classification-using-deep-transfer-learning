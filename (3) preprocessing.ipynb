{
 "cells": [
  {
   "cell_type": "code",
   "execution_count": 1,
   "id": "fbf3f76a",
   "metadata": {},
   "outputs": [],
   "source": [
    "import glob\n",
    "import numpy as np\n",
    "import pandas as pd\n",
    "import os\n",
    "import torch\n",
    "import torchvision.transforms as transforms\n",
    "import torchvision.transforms.functional as fn\n",
    "import torchvision.utils as utils\n",
    "from PIL import Image"
   ]
  },
  {
   "cell_type": "code",
   "execution_count": 2,
   "id": "a61e7678",
   "metadata": {},
   "outputs": [],
   "source": [
    "ori_path = 'gi'\n",
    "new_path = 'preprocessed_gi'\n",
    "isExist = os.path.exists(new_path)\n",
    "if not isExist:\n",
    "    os.makedirs(new_path)\n",
    "\n",
    "classes = ['polyp', 'esophagitis', 'ulcerative-colitis']\n",
    "for i in classes:\n",
    "    temp_path = f'{new_path}/{i}'\n",
    "    isExist = os.path.exists(temp_path)\n",
    "    if not isExist:\n",
    "        os.makedirs(temp_path)"
   ]
  },
  {
   "cell_type": "code",
   "execution_count": 3,
   "id": "7f844554",
   "metadata": {},
   "outputs": [],
   "source": [
    "for c in classes:\n",
    "    imgs = glob.glob(f'{ori_path}/{c}/*.jpg')\n",
    "    for img in imgs:\n",
    "        filename = os.path.basename(img)\n",
    "        temp_img = Image.open(img)\n",
    "        size = temp_img.size\n",
    "        if size[0]>=1920:\n",
    "            crop = fn.center_crop(temp_img, (int(size[0]/2), size[1]))\n",
    "        else:\n",
    "            crop = temp_img\n",
    "        resize = fn.resize(crop, size=(224, 224))\n",
    "        to_tensor = transforms.ToTensor()\n",
    "        final_img = to_tensor(resize)\n",
    "        utils.save_image(final_img, f\"{new_path}/{c}/{filename}\")"
   ]
  }
 ],
 "metadata": {
  "kernelspec": {
   "display_name": "Python 3 (ipykernel)",
   "language": "python",
   "name": "python3"
  },
  "language_info": {
   "codemirror_mode": {
    "name": "ipython",
    "version": 3
   },
   "file_extension": ".py",
   "mimetype": "text/x-python",
   "name": "python",
   "nbconvert_exporter": "python",
   "pygments_lexer": "ipython3",
   "version": "3.9.7"
  }
 },
 "nbformat": 4,
 "nbformat_minor": 5
}
