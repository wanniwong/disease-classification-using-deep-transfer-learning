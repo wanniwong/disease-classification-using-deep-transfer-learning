{
 "cells": [
  {
   "cell_type": "code",
   "execution_count": 34,
   "id": "d51f26ab",
   "metadata": {},
   "outputs": [],
   "source": [
    "import os\n",
    "import numpy as np\n",
    "import shutil"
   ]
  },
  {
   "cell_type": "code",
   "execution_count": 2,
   "id": "bf7a3328",
   "metadata": {},
   "outputs": [],
   "source": [
    "preprocessed_path = 'preprocessed_gi'\n",
    "path = 'final_gi'\n",
    "train_path = f'{path}/train'\n",
    "val_path = f'{path}/val'\n",
    "test_path = f'{path}/test'\n",
    "\n",
    "if not os.path.exists(train_path):\n",
    "    os.makedirs(train_path)\n",
    "\n",
    "if not os.path.exists(val_path):\n",
    "    os.makedirs(val_path)\n",
    "    \n",
    "if not os.path.exists(test_path):\n",
    "    os.makedirs(test_path)"
   ]
  },
  {
   "cell_type": "code",
   "execution_count": 3,
   "id": "d616eeac",
   "metadata": {},
   "outputs": [
    {
     "name": "stdout",
     "output_type": "stream",
     "text": [
      "esophagitis - Total size: 1663\n",
      "esophagitis - Train size: 1064 Validation size: 266 Test size: 333\n",
      "polyp - Total size: 2028\n",
      "polyp - Train size: 1297 Validation size: 325 Test size: 406\n",
      "ulcerative-colitis - Total size: 1851\n",
      "ulcerative-colitis - Train size: 1184 Validation size: 296 Test size: 371\n"
     ]
    }
   ],
   "source": [
    "classes = ['esophagitis', 'polyp', 'ulcerative-colitis']\n",
    "\n",
    "for i in classes:    \n",
    "    src = f'{preprocessed_path}/{i}'\n",
    "    src_files = os.listdir(src)\n",
    "    np.random.shuffle(src_files)\n",
    "    \n",
    "    ratio = 0.2\n",
    "    train, test = np.split(np.array(src_files), [int(len(src_files)*(1-ratio))])\n",
    "    final_train, val = np.split(np.array(train), [int(len(train)*(1-ratio))])\n",
    "    print(f'{i} - Total size: {len(src_files)}')\n",
    "    print(f'{i} - Train size: {len(final_train)}', f'Validation size: {len(val)}', f'Test size: {len(test)}')\n",
    "    \n",
    "    final_train = [src+'/'+name for name in final_train.tolist()]\n",
    "    val = [src+'/'+name for name in val.tolist()]\n",
    "    test = [src+'/'+name for name in test.tolist()]\n",
    "    \n",
    "    count_train = count_val = count_test = 1\n",
    "    \n",
    "    # Copy train dataset\n",
    "    temp_train_path = f'{train_path}/{i}'\n",
    "    if not os.path.exists(temp_train_path):\n",
    "        os.makedirs(temp_train_path)\n",
    "    for name in final_train:\n",
    "        shutil.copy(name, f'{temp_train_path}/{count_train}.jpg')\n",
    "        count_train = count_train+1\n",
    "    \n",
    "    # Copy validation dataset\n",
    "    temp_val_path = f'{val_path}/{i}'\n",
    "    if not os.path.exists(temp_val_path):\n",
    "        os.makedirs(temp_val_path)\n",
    "    for name in val:\n",
    "        shutil.copy(name, f'{temp_val_path}/{count_val}.jpg')\n",
    "        count_val = count_val+1\n",
    "    \n",
    "    # Copy test dataset\n",
    "    temp_test_path = f'{test_path}/{i}'\n",
    "    if not os.path.exists(temp_test_path):\n",
    "        os.makedirs(temp_test_path)\n",
    "    for name in test:\n",
    "        shutil.copy(name, f'{temp_test_path}/{count_test}.jpg')\n",
    "        count_test = count_test+1"
   ]
  }
 ],
 "metadata": {
  "kernelspec": {
   "display_name": "Python 3 (ipykernel)",
   "language": "python",
   "name": "python3"
  },
  "language_info": {
   "codemirror_mode": {
    "name": "ipython",
    "version": 3
   },
   "file_extension": ".py",
   "mimetype": "text/x-python",
   "name": "python",
   "nbconvert_exporter": "python",
   "pygments_lexer": "ipython3",
   "version": "3.9.7"
  }
 },
 "nbformat": 4,
 "nbformat_minor": 5
}
